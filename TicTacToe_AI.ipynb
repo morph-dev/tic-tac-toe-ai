{
  "nbformat": 4,
  "nbformat_minor": 0,
  "metadata": {
    "colab": {
      "name": "TicTacToe AI",
      "provenance": [],
      "collapsed_sections": [],
      "mount_file_id": "1uAafabM-YyJwtlU4idbO5GwbnZIenDqJ",
      "authorship_tag": "ABX9TyPqhi4JjjE2OyNqC2cFuwCb",
      "include_colab_link": true
    },
    "kernelspec": {
      "name": "python3",
      "display_name": "Python 3"
    },
    "language_info": {
      "name": "python"
    }
  },
  "cells": [
    {
      "cell_type": "markdown",
      "metadata": {
        "id": "view-in-github",
        "colab_type": "text"
      },
      "source": [
        "<a href=\"https://colab.research.google.com/github/morph-dev/tic-tac-toe-ai/blob/colab/TicTacToe_AI.ipynb\" target=\"_parent\"><img src=\"https://colab.research.google.com/assets/colab-badge.svg\" alt=\"Open In Colab\"/></a>"
      ]
    },
    {
      "cell_type": "code",
      "metadata": {
        "colab": {
          "base_uri": "https://localhost:8080/"
        },
        "id": "e6oIesMlpxdV",
        "outputId": "1991bc34-0510-48b0-a038-01b80a3d4665"
      },
      "source": [
        "from google.colab import drive\n",
        "drive.mount('/gdrive')"
      ],
      "execution_count": 52,
      "outputs": [
        {
          "output_type": "stream",
          "text": [
            "Mounted at /gdrive\n"
          ],
          "name": "stdout"
        }
      ]
    },
    {
      "cell_type": "markdown",
      "metadata": {
        "id": "70AHqnwNktZS"
      },
      "source": [
        "# GameDefinition"
      ]
    },
    {
      "cell_type": "code",
      "metadata": {
        "id": "xJXaNZhapNuU",
        "cellView": "form"
      },
      "source": [
        "#@title Rules, State, GameEngine\n",
        "import numpy as np\n",
        "\n",
        "def isInsideMatrix(i, j, shape):\n",
        "  return i >= 0 and i < shape[0] and j >= 0 and j < shape[1]\n",
        "\n",
        "class Rules:\n",
        "  def __init__(self, width, height, goal, empty_value=0, player_0_value=1, player_1_value=-1):\n",
        "    self.width = width\n",
        "    self.height = height\n",
        "    self.goal = goal\n",
        "    self.empty_value = empty_value\n",
        "    self.player_0_value = player_0_value\n",
        "    self.player_1_value = player_1_value\n",
        "\n",
        "class State:\n",
        "  def __init__(self, rules, board, currentPlayer):\n",
        "      self.rules = rules\n",
        "      self.board = board\n",
        "      self.currentPlayer = currentPlayer\n",
        "      self.__initializeIsEndAndResult() \n",
        "\n",
        "  def __initializeIsEndAndResult(self):\n",
        "    directions = list(zip(\n",
        "        [0, 1, 1, 1],\n",
        "        [1, 1, 0, -1]\n",
        "    ))\n",
        "    hasEmpty = False\n",
        "    for i in range(self.board.shape[0]):\n",
        "      for j in range(self.board.shape[1]):\n",
        "        target = self.board[i, j]\n",
        "        if target == self.rules.empty_value:\n",
        "          hasEmpty = True\n",
        "          continue\n",
        "        for di, dj in directions:\n",
        "          isMatch = True\n",
        "          for d in range(1, self.rules.goal):\n",
        "            ni = i + d * di\n",
        "            nj = j + d * dj\n",
        "            if not isInsideMatrix(ni, nj, self.board.shape) or self.board[ni, nj] != target:\n",
        "              isMatch = False\n",
        "              break\n",
        "          if isMatch:\n",
        "            self.isEnd = True\n",
        "            self.result = target\n",
        "            return\n",
        "    \n",
        "    self.isEnd = not hasEmpty\n",
        "    if self.isEnd:\n",
        "      self.result = self.rules.empty_value\n",
        "\n",
        "  def __key(self):\n",
        "    return (\n",
        "        self.currentPlayer,\n",
        "        ','.join(map(str, self.board.flatten()))\n",
        "        )\n",
        "  def __hash__(self):\n",
        "    return hash(self.__key())\n",
        "  def __eq__(self, other):\n",
        "      return isinstance(other, State) and self.__key() == other.__key()\n",
        "\n",
        "class GameEngine:\n",
        "  def __init__(self, rules):\n",
        "    self.rules = rules\n",
        "\n",
        "  def newGameState(self):\n",
        "    return State(\n",
        "        self.rules,\n",
        "        np.full((self.rules.height, self.rules.width), self.rules.empty_value),\n",
        "        self.rules.player_0_value)\n",
        "\n",
        "  def possibleMoves(self, state):\n",
        "    moves = []\n",
        "    for i in range(state.board.shape[0]):\n",
        "      for j in range(state.board.shape[1]):\n",
        "        if state.board[i, j] == self.rules.empty_value:\n",
        "          moves.append((i, j))\n",
        "    return moves\n",
        "\n",
        "  def makeMove(self, state, move):\n",
        "    assert not state.isEnd, \"Trying to make a imppossible move. Game is finished. Board: %s\" % state.board\n",
        "    assert state.board[move] == self.rules.empty_value, \"Trying to make a imppossible move. Board %s, move %s\" % (state.board, move)\n",
        "    newBoard = state.board.copy()\n",
        "    newBoard[move] = state.currentPlayer\n",
        "    newPlayer = self.rules.player_0_value if state.currentPlayer == self.rules.player_1_value else self.rules.player_1_value\n",
        "    return State(self.rules, newBoard, newPlayer)"
      ],
      "execution_count": 1,
      "outputs": []
    },
    {
      "cell_type": "markdown",
      "metadata": {
        "id": "WyR8sXF6kx1v"
      },
      "source": [
        "# Learning"
      ]
    },
    {
      "cell_type": "code",
      "metadata": {
        "id": "yaljluZNlkGC",
        "cellView": "form"
      },
      "source": [
        "#@title Model\n",
        "import random\n",
        "\n",
        "class Model:\n",
        "  def __init__(self, rules, learning_rate=0.2, exploration_rate=0.3, decay_gamma=0.9):\n",
        "    self.rules = rules\n",
        "    self.states_values = {}\n",
        "    self.learning_rate = learning_rate\n",
        "    self.exploration_rate = exploration_rate\n",
        "    self.decay_gamma = decay_gamma # unused\n",
        "\n",
        "  def chooseMove(self, gameEngine, state, learning_mode=False):\n",
        "    if learning_mode and random.random() < self.exploration_rate:\n",
        "      return random.choice(gameEngine.possibleMoves(state))\n",
        "    \n",
        "    bestSimilarity = None\n",
        "    bestMove = None\n",
        "    for move in gameEngine.possibleMoves(state):\n",
        "      newState = gameEngine.makeMove(state, move)\n",
        "      newStatePolicyValue = self.states_values.get(newState, None)\n",
        "      if newStatePolicyValue is not None:\n",
        "        similarity = abs(newStatePolicyValue - state.currentPlayer)\n",
        "        if bestSimilarity is None or similarity < bestSimilarity:\n",
        "          bestSimilarity = similarity\n",
        "          bestMove = move\n",
        "\n",
        "    return bestMove if bestMove is not None else random.choice(gameEngine.possibleMoves(state))\n",
        "\n",
        "  def learn(self, states, result):\n",
        "    reward = result\n",
        "    for state in reversed(states):\n",
        "      statePolicyValue = self.states_values.get(state, self.rules.empty_value)\n",
        "      statePolicyValue += self.learning_rate * (reward - statePolicyValue)\n",
        "      self.states_values[state] = statePolicyValue\n",
        "      reward = statePolicyValue\n"
      ],
      "execution_count": 7,
      "outputs": []
    },
    {
      "cell_type": "code",
      "metadata": {
        "id": "qEJQFSJFtKDf",
        "cellView": "form"
      },
      "source": [
        "#@title Training\n",
        "def train(gameEngine, model, numberOfGames, printIncrement = 0.1):\n",
        "  nextPrintRatio = 0.0\n",
        "  for i in range(numberOfGames):\n",
        "    if i >= round(nextPrintRatio * numberOfGames):\n",
        "      print(\"Step %d out of %d (%.0f%%)\" % (\n",
        "          i, numberOfGames, 100. * i / numberOfGames))\n",
        "      nextPrintRatio += printIncrement\n",
        "    \n",
        "    states = []\n",
        "    states.append(gameEngine.newGameState())\n",
        "    while not states[-1].isEnd:\n",
        "      move = model.chooseMove(gameEngine, states[-1], learning_mode=True)\n",
        "      states.append(gameEngine.makeMove(states[-1], move))\n",
        "    model.learn(states, states[-1].result)\n",
        "\n",
        "\n"
      ],
      "execution_count": 48,
      "outputs": []
    },
    {
      "cell_type": "markdown",
      "metadata": {
        "id": "Ax_FrKVjqftc"
      },
      "source": [
        "# Gameplay"
      ]
    },
    {
      "cell_type": "code",
      "metadata": {
        "id": "eKQ1EPf9Yqb-",
        "cellView": "form"
      },
      "source": [
        "#@title Players\n",
        "\n",
        "class Player:\n",
        "  def __init__(self, name):\n",
        "    self.name = name\n",
        "  \n",
        "  def pickMove(self, gameEngine, state):\n",
        "    pass\n",
        "\n",
        "class HumanPlayer(Player):\n",
        "  def __init__(self):\n",
        "    Player.__init__(self, \"Human\")\n",
        "  \n",
        "  def pickMove(self, gameEngine, state):\n",
        "    possibleMoves = gameEngine.possibleMoves(state)\n",
        "    while True:\n",
        "      inputText = input(\"Enter move coordinates: \")\n",
        "      move = tuple(map(int, inputText.split()))\n",
        "      if move in possibleMoves:\n",
        "        return move\n",
        "      print(\"Impossible move selected!\")\n",
        "      print(\"Available moves:\")\n",
        "      print(possibleMoves)\n",
        "\n",
        "class AiPlayer(Player):\n",
        "  def __init__(self, model):\n",
        "    Player.__init__(self, \"BleepBloop\")\n",
        "    self.model = model\n",
        "  \n",
        "  def pickMove(self, gameEngine, state):\n",
        "    return self.model.chooseMove(gameEngine, state)"
      ],
      "execution_count": 22,
      "outputs": []
    },
    {
      "cell_type": "code",
      "metadata": {
        "id": "WkiHIEPlqnvO",
        "cellView": "form"
      },
      "source": [
        "#@title printBoard\n",
        "\n",
        "def printBoard(state):\n",
        "  n, m =state.board.shape\n",
        "  rowBreak = \"\\n\" + \"+\".join([\"---\"] * m) + \"\\n\"\n",
        "  stringValue = {\n",
        "      1: 'X',\n",
        "      -1: 'O',\n",
        "      0: ' ',\n",
        "  }\n",
        "  cellFunction = lambda v: ' %s ' % stringValue[v]\n",
        "  rowFunction = lambda row: '|'.join(map(cellFunction , row))\n",
        "  print(rowBreak.join(map(rowFunction, state.board)))"
      ],
      "execution_count": 10,
      "outputs": []
    },
    {
      "cell_type": "code",
      "metadata": {
        "cellView": "form",
        "id": "R2tRwEiYR2gf"
      },
      "source": [
        "#@title playGame\n",
        "from IPython.display import clear_output\n",
        "\n",
        "def playGame(gameEngine, player1, player2, model_analysis=None):\n",
        "  state = gameEngine.newGameState()\n",
        "  currentPlayer = player1\n",
        "  nextPlayer = player2\n",
        "\n",
        "  while True:\n",
        "    # clear_output()\n",
        "    printBoard(state)\n",
        "    if model_analysis:\n",
        "      values = np.zeros(state.board.shape)\n",
        "      possible_moves = gameEngine.possibleMoves(state)\n",
        "      for move in possible_moves:\n",
        "        values[move] = model_analysis.states_values[\n",
        "            gameEngine.makeMove(state, move)]\n",
        "      print(values)\n",
        "    move = currentPlayer.pickMove(gameEngine, state)\n",
        "    state = gameEngine.makeMove(state, move)\n",
        "    if state.isEnd:\n",
        "      break\n",
        "    currentPlayer, nextPlayer = nextPlayer, currentPlayer\n",
        "\n",
        "  print(\"Game over!\")\n",
        "  if state.result == gameEngine.rules.empty_value:\n",
        "    print(\"Tie\")\n",
        "  elif state.result == gameEngine.rules.player_0_value:\n",
        "    print(\"%s won!\" % player1.name)\n",
        "  else:\n",
        "    print(\"%s won!\" % player2.name)"
      ],
      "execution_count": 36,
      "outputs": []
    },
    {
      "cell_type": "markdown",
      "metadata": {
        "id": "LVXbL-_8VQWx"
      },
      "source": [
        "# Play"
      ]
    },
    {
      "cell_type": "code",
      "metadata": {
        "colab": {
          "base_uri": "https://localhost:8080/"
        },
        "id": "g_kff_5UVcz7",
        "outputId": "1e0e6895-6ee8-450a-af57-e0fdc01894ad"
      },
      "source": [
        "gameEngine = GameEngine(Rules(3,3,3))\n",
        "model = Model(gameEngine.rules)\n",
        "train(gameEngine, model, 200000, printIncrement=0.01)"
      ],
      "execution_count": 50,
      "outputs": [
        {
          "output_type": "stream",
          "text": [
            "Step 0 out of 200000 (0%)\n",
            "Step 2000 out of 200000 (1%)\n",
            "Step 4000 out of 200000 (2%)\n",
            "Step 6000 out of 200000 (3%)\n",
            "Step 8000 out of 200000 (4%)\n",
            "Step 10000 out of 200000 (5%)\n",
            "Step 12000 out of 200000 (6%)\n",
            "Step 14000 out of 200000 (7%)\n",
            "Step 16000 out of 200000 (8%)\n",
            "Step 18000 out of 200000 (9%)\n",
            "Step 20000 out of 200000 (10%)\n",
            "Step 22000 out of 200000 (11%)\n",
            "Step 24000 out of 200000 (12%)\n",
            "Step 26000 out of 200000 (13%)\n",
            "Step 28000 out of 200000 (14%)\n",
            "Step 30000 out of 200000 (15%)\n",
            "Step 32000 out of 200000 (16%)\n",
            "Step 34000 out of 200000 (17%)\n",
            "Step 36000 out of 200000 (18%)\n",
            "Step 38000 out of 200000 (19%)\n",
            "Step 40000 out of 200000 (20%)\n",
            "Step 42000 out of 200000 (21%)\n",
            "Step 44000 out of 200000 (22%)\n",
            "Step 46000 out of 200000 (23%)\n",
            "Step 48000 out of 200000 (24%)\n",
            "Step 50000 out of 200000 (25%)\n",
            "Step 52000 out of 200000 (26%)\n",
            "Step 54000 out of 200000 (27%)\n",
            "Step 56000 out of 200000 (28%)\n",
            "Step 58000 out of 200000 (29%)\n",
            "Step 60000 out of 200000 (30%)\n",
            "Step 62000 out of 200000 (31%)\n",
            "Step 64000 out of 200000 (32%)\n",
            "Step 66000 out of 200000 (33%)\n",
            "Step 68000 out of 200000 (34%)\n",
            "Step 70000 out of 200000 (35%)\n",
            "Step 72000 out of 200000 (36%)\n",
            "Step 74000 out of 200000 (37%)\n",
            "Step 76000 out of 200000 (38%)\n",
            "Step 78000 out of 200000 (39%)\n",
            "Step 80000 out of 200000 (40%)\n",
            "Step 82000 out of 200000 (41%)\n",
            "Step 84000 out of 200000 (42%)\n",
            "Step 86000 out of 200000 (43%)\n",
            "Step 88000 out of 200000 (44%)\n",
            "Step 90000 out of 200000 (45%)\n",
            "Step 92000 out of 200000 (46%)\n",
            "Step 94000 out of 200000 (47%)\n",
            "Step 96000 out of 200000 (48%)\n",
            "Step 98000 out of 200000 (49%)\n",
            "Step 100000 out of 200000 (50%)\n",
            "Step 102000 out of 200000 (51%)\n",
            "Step 104000 out of 200000 (52%)\n",
            "Step 106000 out of 200000 (53%)\n",
            "Step 108000 out of 200000 (54%)\n",
            "Step 110000 out of 200000 (55%)\n",
            "Step 112000 out of 200000 (56%)\n",
            "Step 114000 out of 200000 (57%)\n",
            "Step 116000 out of 200000 (58%)\n",
            "Step 118000 out of 200000 (59%)\n",
            "Step 120000 out of 200000 (60%)\n",
            "Step 122000 out of 200000 (61%)\n",
            "Step 124000 out of 200000 (62%)\n",
            "Step 126000 out of 200000 (63%)\n",
            "Step 128000 out of 200000 (64%)\n",
            "Step 130000 out of 200000 (65%)\n",
            "Step 132000 out of 200000 (66%)\n",
            "Step 134000 out of 200000 (67%)\n",
            "Step 136000 out of 200000 (68%)\n",
            "Step 138000 out of 200000 (69%)\n",
            "Step 140000 out of 200000 (70%)\n",
            "Step 142000 out of 200000 (71%)\n",
            "Step 144000 out of 200000 (72%)\n",
            "Step 146000 out of 200000 (73%)\n",
            "Step 148000 out of 200000 (74%)\n",
            "Step 150000 out of 200000 (75%)\n",
            "Step 152000 out of 200000 (76%)\n",
            "Step 154000 out of 200000 (77%)\n",
            "Step 156000 out of 200000 (78%)\n",
            "Step 158000 out of 200000 (79%)\n",
            "Step 160000 out of 200000 (80%)\n",
            "Step 162000 out of 200000 (81%)\n",
            "Step 164000 out of 200000 (82%)\n",
            "Step 166000 out of 200000 (83%)\n",
            "Step 168000 out of 200000 (84%)\n",
            "Step 170000 out of 200000 (85%)\n",
            "Step 172000 out of 200000 (86%)\n",
            "Step 174000 out of 200000 (87%)\n",
            "Step 176000 out of 200000 (88%)\n",
            "Step 178000 out of 200000 (89%)\n",
            "Step 180000 out of 200000 (90%)\n",
            "Step 182000 out of 200000 (91%)\n",
            "Step 184000 out of 200000 (92%)\n",
            "Step 186000 out of 200000 (93%)\n",
            "Step 188000 out of 200000 (94%)\n",
            "Step 190000 out of 200000 (95%)\n",
            "Step 192000 out of 200000 (96%)\n",
            "Step 194000 out of 200000 (97%)\n",
            "Step 196000 out of 200000 (98%)\n",
            "Step 198000 out of 200000 (99%)\n"
          ],
          "name": "stdout"
        }
      ]
    },
    {
      "cell_type": "markdown",
      "metadata": {
        "id": "7UWPG-rXrOoJ"
      },
      "source": [
        ""
      ]
    },
    {
      "cell_type": "code",
      "metadata": {
        "colab": {
          "base_uri": "https://localhost:8080/"
        },
        "cellView": "form",
        "id": "7wUWVSkaVoML",
        "outputId": "6c8fe23c-e2ce-4588-903c-f5a38d0e091f"
      },
      "source": [
        "#@title Play\n",
        "player1 = \"BleepBloop\" #@param [\"BleepBloop\", \"human\"]\n",
        "player2 = \"human\" #@param [\"BleepBloop\", \"human\"]\n",
        "show_debug = False #@param {type:\"boolean\"}\n",
        "\n",
        "human_player = HumanPlayer()\n",
        "ai_player = AiPlayer(model)\n",
        "p1 = human_player if player1 == \"human\" else ai_player\n",
        "p2 = human_player if player2 == \"human\" else ai_player\n",
        "playGame(\n",
        "    gameEngine,\n",
        "    p1,\n",
        "    p2,\n",
        "    model if show_debug else None)"
      ],
      "execution_count": 59,
      "outputs": [
        {
          "output_type": "stream",
          "text": [
            "   |   |   \n",
            "---+---+---\n",
            "   |   |   \n",
            "---+---+---\n",
            "   |   |   \n",
            "   |   |   \n",
            "---+---+---\n",
            "   | X |   \n",
            "---+---+---\n",
            "   |   |   \n",
            "Enter move coordinates: 0 0\n",
            " O |   |   \n",
            "---+---+---\n",
            "   | X |   \n",
            "---+---+---\n",
            "   |   |   \n",
            " O |   |   \n",
            "---+---+---\n",
            "   | X | X \n",
            "---+---+---\n",
            "   |   |   \n",
            "Enter move coordinates: 1 0\n",
            " O |   |   \n",
            "---+---+---\n",
            " O | X | X \n",
            "---+---+---\n",
            "   |   |   \n",
            " O |   |   \n",
            "---+---+---\n",
            " O | X | X \n",
            "---+---+---\n",
            " X |   |   \n",
            "Enter move coordinates: 0 2\n",
            " O |   | O \n",
            "---+---+---\n",
            " O | X | X \n",
            "---+---+---\n",
            " X |   |   \n",
            " O | X | O \n",
            "---+---+---\n",
            " O | X | X \n",
            "---+---+---\n",
            " X |   |   \n",
            "Enter move coordinates: 2 1\n",
            " O | X | O \n",
            "---+---+---\n",
            " O | X | X \n",
            "---+---+---\n",
            " X | O |   \n",
            "Game over!\n",
            "Tie\n"
          ],
          "name": "stdout"
        }
      ]
    },
    {
      "cell_type": "code",
      "metadata": {
        "id": "_JovPQ3Cptrh"
      },
      "source": [
        "import pickle\n",
        "\n",
        "# '/gdrive/My Drive/policy_200000_20210418.pickle'\n",
        "\n",
        "def savePolicy(model, filename):\n",
        "  fw = open(filename, 'wb')\n",
        "  pickle.dump(model.states_values, fw)\n",
        "  fw.close()\n",
        "\n",
        "def loadPolicy(self, filename):\n",
        "  fr = open(filename, 'rb')\n",
        "  states_values = pickle.load(fr)\n",
        "  fr.close()\n",
        "  return states_values"
      ],
      "execution_count": 53,
      "outputs": []
    },
    {
      "cell_type": "code",
      "metadata": {
        "id": "iiMUtREKmHvt"
      },
      "source": [
        ""
      ],
      "execution_count": null,
      "outputs": []
    }
  ]
}